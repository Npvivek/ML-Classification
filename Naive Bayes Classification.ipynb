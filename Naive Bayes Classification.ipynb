{
 "cells": [
  {
   "cell_type": "code",
   "execution_count": 21,
   "metadata": {
    "id": "uzqA5Rt2KW2g"
   },
   "outputs": [],
   "source": [
    "import numpy as np \n",
    "import pandas as pd \n",
    "from sklearn.metrics import confusion_matrix \n",
    "from sklearn.naive_bayes import GaussianNB\n",
    "from sklearn.model_selection import train_test_split \n",
    "from sklearn.tree import DecisionTreeClassifier \n",
    "from sklearn.metrics import accuracy_score \n",
    "from sklearn.metrics import classification_report"
   ]
  },
  {
   "cell_type": "code",
   "execution_count": 22,
   "metadata": {
    "id": "pXAjoxAcpNy6"
   },
   "outputs": [],
   "source": [
    "def importdata(): \n",
    "    balance_data = pd.read_csv( 'NumericCarDatabase.csv') \n",
    "    print (\"Dataset Length: \", len(balance_data)) \n",
    "    print (\"Dataset Shape: \", balance_data.shape) \n",
    "    print (\"Dataset: \\n\",balance_data.head()) \n",
    "    return balance_data \n",
    "  \n",
    "def splitdataset(balance_data): \n",
    "  \n",
    "    X = balance_data.values[:, 0:6] \n",
    "    Y = balance_data.values[:, 6] \n",
    "   \n",
    "    X_train, X_test, y_train, y_test = train_test_split(  \n",
    "    X, Y, test_size = 0.3, random_state = 100) \n",
    "      \n",
    "    return X, Y, X_train, X_test, y_train, y_test \n",
    "       \n",
    "def train_using_Naive(X_train, X_test, y_train): \n",
    "    clf_Naive = GaussianNB() \n",
    "    clf_Naive.fit(X_train, y_train) \n",
    "    return clf_Naive \n",
    " \n",
    "def prediction(X_test, clf_object): \n",
    "   \n",
    "    y_pred = clf_object.predict(X_test) \n",
    "    print(\"Predicted values:\") \n",
    "    print(y_pred) \n",
    "    return y_pred \n",
    "       \n",
    "def cal_accuracy(y_test, y_pred): \n",
    "      \n",
    "    print(\"Confusion Matrix: \\n\", \n",
    "        confusion_matrix(y_test, y_pred)) \n",
    "      \n",
    "    print (\"Accuracy :\\n \", \n",
    "    accuracy_score(y_test,y_pred)*100) \n",
    "      \n",
    "    print(\"Report :\\n \", \n",
    "    classification_report(y_test, y_pred)) "
   ]
  },
  {
   "cell_type": "code",
   "execution_count": 23,
   "metadata": {
    "colab": {
     "base_uri": "https://localhost:8080/"
    },
    "id": "JoXqeIGdphPQ",
    "outputId": "f1faea90-e075-4520-eb4b-75c54f8ae7e2"
   },
   "outputs": [
    {
     "name": "stdout",
     "output_type": "stream",
     "text": [
      "Dataset Length:  1728\n",
      "Dataset Shape:  (1728, 7)\n",
      "Dataset: \n",
      "    Buying Price  Maintenance Price  Number of Doors  Person Capacity  \\\n",
      "0             0                  2                1                2   \n",
      "1             0                  1                1                0   \n",
      "2             3                  1                3                0   \n",
      "3             3                  1                3                1   \n",
      "4             1                  1                2                0   \n",
      "\n",
      "   luggage Boot Size  Safety  Class  \n",
      "0                  1       2      2  \n",
      "1                  2       0      0  \n",
      "2                  2       2      0  \n",
      "3                  0       0      0  \n",
      "4                  2       2      0  \n",
      "Results Using Naive Bayes:\n",
      "Predicted values:\n",
      "[0 2 2 2 0 0 2 0 1 0 0 0 0 0 0 0 0 0 0 0 0 0 0 2 0 1 0 1 0 0 2 0 2 0 1 2 0\n",
      " 2 0 0 0 0 2 2 0 0 0 0 0 2 0 2 0 0 2 0 0 2 2 0 0 0 2 1 0 0 0 0 0 2 0 0 0 0\n",
      " 0 1 0 0 2 0 0 0 1 2 0 0 0 0 1 0 0 2 0 0 2 0 2 0 0 2 0 0 0 2 0 2 2 0 2 0 2\n",
      " 0 0 0 0 0 1 0 0 0 0 0 0 1 0 2 2 0 0 2 0 0 0 0 2 0 0 0 1 0 0 0 0 0 1 0 0 0\n",
      " 0 0 1 0 0 0 0 0 2 0 0 2 0 0 0 0 1 0 2 0 2 2 2 2 0 0 2 0 0 0 0 2 0 2 0 2 0\n",
      " 2 0 0 0 0 0 0 1 0 2 1 0 0 0 2 0 0 0 0 1 0 2 0 0 3 0 0 0 2 2 3 2 0 0 0 1 0\n",
      " 2 0 0 0 0 0 0 0 0 3 0 0 2 0 0 0 0 2 1 2 2 0 2 2 0 0 0 0 3 2 0 0 2 2 0 2 0\n",
      " 0 0 0 3 0 2 0 0 0 0 0 2 2 0 0 0 0 0 2 0 0 0 0 0 0 0 2 2 2 0 0 0 0 0 0 0 2\n",
      " 0 0 2 2 0 0 0 0 2 2 0 0 0 2 2 0 0 0 0 0 0 0 2 2 2 0 0 0 0 0 0 0 0 0 0 2 0\n",
      " 0 0 0 0 0 2 0 0 0 1 0 0 0 3 0 2 0 0 0 1 0 0 0 0 0 0 2 0 0 1 1 0 0 0 0 0 0\n",
      " 0 0 0 0 0 0 2 0 0 0 0 0 0 1 0 0 0 0 2 0 0 0 0 0 2 1 0 0 0 0 0 0 0 0 0 1 0\n",
      " 0 0 0 0 1 0 1 1 0 0 0 0 0 0 0 3 0 0 0 0 0 2 2 2 0 0 0 0 0 2 0 0 0 2 0 0 0\n",
      " 0 0 0 0 0 0 0 1 0 0 1 0 2 0 0 0 0 0 0 1 2 1 2 2 0 0 0 2 2 0 0 0 0 2 0 0 0\n",
      " 0 3 1 0 0 2 0 2 0 0 0 2 0 0 0 0 0 0 0 0 0 0 1 0 0 0 2 0 0 1 0 2 2 0 0 3 0\n",
      " 0]\n",
      "Confusion Matrix: \n",
      " [[321   8  37   0]\n",
      " [ 46  23  43   3]\n",
      " [  0   0  16   0]\n",
      " [  3   5   8   6]]\n",
      "Accuracy :\n",
      "  70.52023121387283\n",
      "Report :\n",
      "                precision    recall  f1-score   support\n",
      "\n",
      "           0       0.87      0.88      0.87       366\n",
      "           1       0.64      0.20      0.30       115\n",
      "           2       0.15      1.00      0.27        16\n",
      "           3       0.67      0.27      0.39        22\n",
      "\n",
      "    accuracy                           0.71       519\n",
      "   macro avg       0.58      0.59      0.46       519\n",
      "weighted avg       0.79      0.71      0.71       519\n",
      "\n"
     ]
    }
   ],
   "source": [
    "def main(): \n",
    "      \n",
    "    data = importdata() \n",
    "    X, Y, X_train, X_test, y_train, y_test = splitdataset(data) \n",
    "    clf_Naive = train_using_Naive(X_train, X_test, y_train)\n",
    "     \n",
    "    print(\"Results Using Naive Bayes:\")   \n",
    "    y_pred_Naive = prediction(X_test, clf_Naive) \n",
    "    cal_accuracy(y_test, y_pred_Naive) \n",
    "      \n",
    "     \n",
    "if __name__==\"__main__\": \n",
    "    main() "
   ]
  },
  {
   "cell_type": "code",
   "execution_count": null,
   "metadata": {
    "id": "b2awo9-rLpDQ"
   },
   "outputs": [],
   "source": []
  }
 ],
 "metadata": {
  "colab": {
   "collapsed_sections": [],
   "name": "Classification Using NaiveBayes Classifier",
   "provenance": []
  },
  "kernelspec": {
   "display_name": "Python 3",
   "language": "python",
   "name": "python3"
  },
  "language_info": {
   "codemirror_mode": {
    "name": "ipython",
    "version": 3
   },
   "file_extension": ".py",
   "mimetype": "text/x-python",
   "name": "python",
   "nbconvert_exporter": "python",
   "pygments_lexer": "ipython3",
   "version": "3.8.5"
  }
 },
 "nbformat": 4,
 "nbformat_minor": 1
}
