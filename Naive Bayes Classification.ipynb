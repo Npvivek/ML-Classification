{
  "nbformat": 4,
  "nbformat_minor": 0,
  "metadata": {
    "colab": {
      "name": "Classification Using NaiveBayes Classifier",
      "provenance": [],
      "collapsed_sections": []
    },
    "kernelspec": {
      "name": "python3",
      "display_name": "Python 3.9.0 64-bit",
      "metadata": {
        "interpreter": {
          "hash": "dcefb94247ed3a96c019017e2a2a00d54bbb49be2b36c2eecc4887cc00f2ff4d"
        }
      }
    },
    "language_info": {
      "codemirror_mode": {
        "name": "ipython",
        "version": 3
      },
      "file_extension": ".py",
      "mimetype": "text/x-python",
      "name": "python",
      "nbconvert_exporter": "python",
      "pygments_lexer": "ipython3",
      "version": "3.9.0-final"
    }
  },
  "cells": [
    {
      "cell_type": "code",
      "metadata": {
        "id": "uzqA5Rt2KW2g"
      },
      "source": [
        "import numpy as np \n",
        "import pandas as pd \n",
        "from sklearn.metrics import confusion_matrix \n",
        "from sklearn.naive_bayes import GaussianNB\n",
        "from sklearn.model_selection import train_test_split \n",
        "from sklearn.tree import DecisionTreeClassifier \n",
        "from sklearn.metrics import accuracy_score \n",
        "from sklearn.metrics import classification_report"
      ],
      "execution_count": 1,
      "outputs": [
        {
          "output_type": "error",
          "ename": "ModuleNotFoundError",
          "evalue": "No module named 'numpy'",
          "traceback": [
            "\u001b[1;31m---------------------------------------------------------------------------\u001b[0m",
            "\u001b[1;31mModuleNotFoundError\u001b[0m                       Traceback (most recent call last)",
            "\u001b[1;32m<ipython-input-1-28d7fbdbdcf6>\u001b[0m in \u001b[0;36m<module>\u001b[1;34m\u001b[0m\n\u001b[1;32m----> 1\u001b[1;33m \u001b[1;32mimport\u001b[0m \u001b[0mnumpy\u001b[0m \u001b[1;32mas\u001b[0m \u001b[0mnp\u001b[0m\u001b[1;33m\u001b[0m\u001b[1;33m\u001b[0m\u001b[0m\n\u001b[0m\u001b[0;32m      2\u001b[0m \u001b[1;32mimport\u001b[0m \u001b[0mpandas\u001b[0m \u001b[1;32mas\u001b[0m \u001b[0mpd\u001b[0m\u001b[1;33m\u001b[0m\u001b[1;33m\u001b[0m\u001b[0m\n\u001b[0;32m      3\u001b[0m \u001b[1;32mfrom\u001b[0m \u001b[0msklearn\u001b[0m\u001b[1;33m.\u001b[0m\u001b[0mmetrics\u001b[0m \u001b[1;32mimport\u001b[0m \u001b[0mconfusion_matrix\u001b[0m\u001b[1;33m\u001b[0m\u001b[1;33m\u001b[0m\u001b[0m\n\u001b[0;32m      4\u001b[0m \u001b[1;32mfrom\u001b[0m \u001b[0msklearn\u001b[0m\u001b[1;33m.\u001b[0m\u001b[0mnaive_bayes\u001b[0m \u001b[1;32mimport\u001b[0m \u001b[0mGaussianNB\u001b[0m\u001b[1;33m\u001b[0m\u001b[1;33m\u001b[0m\u001b[0m\n\u001b[0;32m      5\u001b[0m \u001b[1;32mfrom\u001b[0m \u001b[0msklearn\u001b[0m\u001b[1;33m.\u001b[0m\u001b[0mmodel_selection\u001b[0m \u001b[1;32mimport\u001b[0m \u001b[0mtrain_test_split\u001b[0m\u001b[1;33m\u001b[0m\u001b[1;33m\u001b[0m\u001b[0m\n",
            "\u001b[1;31mModuleNotFoundError\u001b[0m: No module named 'numpy'"
          ]
        }
      ]
    },
    {
      "cell_type": "code",
      "metadata": {
        "id": "pXAjoxAcpNy6"
      },
      "source": [
        " def importdata(): \n",
        "    balance_data = pd.read_csv( 'CarDatabase.csv')\n",
        "    balance_data['Buying Price'] = balance_data['Buying Price'].map({'vhigh':3,'high':2,'med': 1,'low': 0})\n",
        "    balance_data['Maintenance Price'] = balance_data['Maintenance Price'].map({'vhigh':3,'high':2,'med': 1,'low': 0})\n",
        "    balance_data['Number of Doors'] = balance_data['Number of Doors'].map({'more':3,'average':2,'baverage': 1,'less': 0})\n",
        "    balance_data['Person Capacity'] = balance_data['Person Capacity'].map({'more':2,'average': 1,'less': 0})\n",
        "    balance_data['luggage Boot Size'] = balance_data['luggage Boot Size'].map({'big':2,'med': 1,'small': 0})\n",
        "    balance_data['Safety'] = balance_data['Safety'].map({'high':2,'med': 1,'low': 0})\n",
        "    balance_data['Class'] = balance_data['Class'].map({'vgood':3,'good': 2,'acc': 1,'unacc':0})                      \n",
        "\n",
        "    print (\"Dataset Length: \", len(balance_data)) \n",
        "    print (\"Dataset Shape: \", balance_data.shape) \n",
        "    print (\"Dataset: \\n\",balance_data.head()) \n",
        "    return balance_data \n",
        "\n",
        "def splitdataset(balance_data): \n",
        "  \n",
        "     \n",
        "    X = balance_data.values[:, 0:6] \n",
        "    Y = balance_data.values[:, 6] \n",
        "  \n",
        "    \n",
        "    X_train, X_test, y_train, y_test = train_test_split(  \n",
        "    X, Y, test_size = 0.3, random_state = 100) \n",
        "      \n",
        "    return X, Y, X_train, X_test, y_train, y_test \n",
        "      \n",
        "\n",
        "\n",
        "def train_using_Naive(X_train, X_test, y_train): \n",
        "    clf_Naive = GaussianNB()\n",
        "    clf_Naive.fit(X_train, y_train) \n",
        "    return clf_Naive \n",
        "\n",
        "\n",
        "def prediction(X_test, clf_object): \n",
        "  \n",
        "\n",
        "    y_pred = clf_object.predict(X_test) \n",
        "    print(\"Predicted values:\") \n",
        "    print(y_pred) \n",
        "    return y_pred \n",
        " \n",
        "def cal_accuracy(y_test, y_pred): \n",
        "      \n",
        "    print(\"Confusion Matrix: \\n\", \n",
        "        confusion_matrix(y_test, y_pred)) \n",
        "      \n",
        "    print (\"Accuracy :\\n \", \n",
        "    accuracy_score(y_test,y_pred)*100) \n",
        "      \n",
        "    print(\"Report :\\n \", \n",
        "    classification_report(y_test, y_pred)) "
      ],
      "execution_count": null,
      "outputs": []
    },
    {
      "cell_type": "code",
      "metadata": {
        "colab": {
          "base_uri": "https://localhost:8080/"
        },
        "id": "JoXqeIGdphPQ",
        "outputId": "57e01b9e-1ce2-4362-cb21-e9d0f69968bd"
      },
      "source": [
        "def main(): \n",
        "      \n",
        "\n",
        "    data = importdata() \n",
        "    X, Y, X_train, X_test, y_train, y_test = splitdataset(data) \n",
        "    clf_Naive = train_using_Naive(X_train, X_test, y_train)\n",
        "   \n",
        "    print(\"Results Using Naive Bayes:\")   \n",
        "    y_pred_Naive = prediction(X_test, clf_Naive) \n",
        "    cal_accuracy(y_test, y_pred_Naive) \n",
        "      \n",
        "if __name__==\"__main__\": \n",
        "    main() "
      ],
      "execution_count": null,
      "outputs": []
    },
    {
      "cell_type": "code",
      "metadata": {
        "id": "b2awo9-rLpDQ"
      },
      "source": [
        ""
      ],
      "execution_count": null,
      "outputs": []
    }
  ]
}